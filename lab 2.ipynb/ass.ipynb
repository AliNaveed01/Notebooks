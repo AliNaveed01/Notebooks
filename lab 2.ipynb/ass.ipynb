{
 "cells": [
  {
   "cell_type": "code",
   "execution_count": 4,
   "metadata": {},
   "outputs": [],
   "source": [
    "import pandas as pd\n",
    "from sklearn.model_selection import train_test_split\n",
    "from sklearn.linear_model import LogisticRegression\n",
    "from sklearn.metrics import accuracy_score"
   ]
  },
  {
   "cell_type": "code",
   "execution_count": 10,
   "metadata": {},
   "outputs": [],
   "source": [
    "\n",
    "def LogisticReg(file):\n",
    "    df=pd.read_excel(file)\n",
    "    df.drop('Unnamed: 0',axis=1,inplace=True)\n",
    "        \n",
    "    \n",
    "    iris_train,iris_test=train_test_split(df,test_size=0.2,random_state=57)\n",
    "       \n",
    "    \n",
    "    mapping = {\n",
    "        'Iris-setosa' : 1,\n",
    "        'Iris-versicolor' : 2,\n",
    "        'Iris-virginica' : 3\n",
    "        }\n",
    "\n",
    "    X_train,y_train = iris_train.iloc[:,:-1].values,iris_train.iloc[:,[-1]].replace(mapping).values\n",
    "    X_test,y_test=iris_test.iloc[:,:-1].values,iris_test.iloc[:,[-1]].replace(mapping).values\n",
    "    logreg=LogisticRegression()\n",
    "\n",
    "    logreg.fit(X_train,y_train)\n",
    "        \n",
    "    y_pred=logreg.predict(X_test)\n",
    "\n",
    "    print(\"Accuracy of Logistic Regression Model:\", accuracy_score(y_test,y_pred))\n",
    "\n",
    "   "
   ]
  },
  {
   "cell_type": "code",
   "execution_count": 11,
   "metadata": {},
   "outputs": [
    {
     "name": "stdout",
     "output_type": "stream",
     "text": [
      "Accuracy of Logistic Regression Model: 0.6333333333333333\n"
     ]
    },
    {
     "name": "stderr",
     "output_type": "stream",
     "text": [
      "c:\\Users\\tofee\\anaconda3\\lib\\site-packages\\sklearn\\utils\\validation.py:63: DataConversionWarning: A column-vector y was passed when a 1d array was expected. Please change the shape of y to (n_samples, ), for example using ravel().\n",
      "  return f(*args, **kwargs)\n"
     ]
    }
   ],
   "source": [
    "file='clean_iris.xlsx'\n",
    "LogisticReg(file)\n"
   ]
  },
  {
   "cell_type": "code",
   "execution_count": null,
   "metadata": {},
   "outputs": [],
   "source": [
    "file='Original Iris.xlsx'\n",
    "LogisticReg(file)"
   ]
  },
  {
   "cell_type": "code",
   "execution_count": null,
   "metadata": {},
   "outputs": [],
   "source": [
    "file='my_iris.xlsx'\n",
    "LogisticReg(file)"
   ]
  }
 ],
 "metadata": {
  "kernelspec": {
   "display_name": "Python 3.9.7 ('base')",
   "language": "python",
   "name": "python3"
  },
  "language_info": {
   "codemirror_mode": {
    "name": "ipython",
    "version": 3
   },
   "file_extension": ".py",
   "mimetype": "text/x-python",
   "name": "python",
   "nbconvert_exporter": "python",
   "pygments_lexer": "ipython3",
   "version": "3.9.7"
  },
  "orig_nbformat": 4,
  "vscode": {
   "interpreter": {
    "hash": "c740ea5def09f529fca43e393decf6813c4c94f46b1946a67c79136a2ec35a9e"
   }
  }
 },
 "nbformat": 4,
 "nbformat_minor": 2
}
