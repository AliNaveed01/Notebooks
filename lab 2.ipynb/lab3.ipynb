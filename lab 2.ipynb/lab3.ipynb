{
 "cells": [
  {
   "cell_type": "markdown",
   "metadata": {},
   "source": [
    "Naveed Ali\n",
    "\n",
    "20L-1244\n",
    "\n",
    "Data Analysis and Visualization \n",
    "\n",
    "Lab 3"
   ]
  },
  {
   "cell_type": "code",
   "execution_count": 65,
   "metadata": {},
   "outputs": [],
   "source": [
    "import numpy as np\n",
    "import pandas as pd\n",
    "import matplotlib.pyplot as plt\n",
    "import seaborn as sns"
   ]
  },
  {
   "cell_type": "markdown",
   "metadata": {},
   "source": [
    "I am converting the TARGET column into a number of integers because it was in string already"
   ]
  },
  {
   "cell_type": "code",
   "execution_count": 66,
   "metadata": {},
   "outputs": [
    {
     "data": {
      "text/html": [
       "<div>\n",
       "<style scoped>\n",
       "    .dataframe tbody tr th:only-of-type {\n",
       "        vertical-align: middle;\n",
       "    }\n",
       "\n",
       "    .dataframe tbody tr th {\n",
       "        vertical-align: top;\n",
       "    }\n",
       "\n",
       "    .dataframe thead th {\n",
       "        text-align: right;\n",
       "    }\n",
       "</style>\n",
       "<table border=\"1\" class=\"dataframe\">\n",
       "  <thead>\n",
       "    <tr style=\"text-align: right;\">\n",
       "      <th></th>\n",
       "      <th>sepal depth</th>\n",
       "      <th>sepal diameter</th>\n",
       "      <th>petal depth</th>\n",
       "      <th>petal diameter</th>\n",
       "      <th>sepal length</th>\n",
       "      <th>sepal width</th>\n",
       "      <th>petal length</th>\n",
       "      <th>petal width</th>\n",
       "      <th>target</th>\n",
       "    </tr>\n",
       "  </thead>\n",
       "  <tbody>\n",
       "    <tr>\n",
       "      <th>0</th>\n",
       "      <td>NaN</td>\n",
       "      <td>NaN</td>\n",
       "      <td>NaN</td>\n",
       "      <td>NaN</td>\n",
       "      <td>10.2</td>\n",
       "      <td>-7.0</td>\n",
       "      <td>5.6</td>\n",
       "      <td>-0.8</td>\n",
       "      <td>0</td>\n",
       "    </tr>\n",
       "    <tr>\n",
       "      <th>1</th>\n",
       "      <td>4.9</td>\n",
       "      <td>3.0</td>\n",
       "      <td>1.4</td>\n",
       "      <td>0.2</td>\n",
       "      <td>9.8</td>\n",
       "      <td>-6.0</td>\n",
       "      <td>5.6</td>\n",
       "      <td>-0.8</td>\n",
       "      <td>0</td>\n",
       "    </tr>\n",
       "    <tr>\n",
       "      <th>2</th>\n",
       "      <td>4.7</td>\n",
       "      <td>3.2</td>\n",
       "      <td>NaN</td>\n",
       "      <td>NaN</td>\n",
       "      <td>9.4</td>\n",
       "      <td>-6.4</td>\n",
       "      <td>5.2</td>\n",
       "      <td>-0.8</td>\n",
       "      <td>0</td>\n",
       "    </tr>\n",
       "    <tr>\n",
       "      <th>3</th>\n",
       "      <td>4.6</td>\n",
       "      <td>NaN</td>\n",
       "      <td>1.5</td>\n",
       "      <td>NaN</td>\n",
       "      <td>9.2</td>\n",
       "      <td>-6.2</td>\n",
       "      <td>6.0</td>\n",
       "      <td>-0.8</td>\n",
       "      <td>0</td>\n",
       "    </tr>\n",
       "    <tr>\n",
       "      <th>4</th>\n",
       "      <td>NaN</td>\n",
       "      <td>3.6</td>\n",
       "      <td>NaN</td>\n",
       "      <td>NaN</td>\n",
       "      <td>10.0</td>\n",
       "      <td>-7.2</td>\n",
       "      <td>5.6</td>\n",
       "      <td>-0.8</td>\n",
       "      <td>0</td>\n",
       "    </tr>\n",
       "  </tbody>\n",
       "</table>\n",
       "</div>"
      ],
      "text/plain": [
       "   sepal depth  sepal diameter  petal depth  petal diameter  sepal length  \\\n",
       "0          NaN             NaN          NaN             NaN          10.2   \n",
       "1          4.9             3.0          1.4             0.2           9.8   \n",
       "2          4.7             3.2          NaN             NaN           9.4   \n",
       "3          4.6             NaN          1.5             NaN           9.2   \n",
       "4          NaN             3.6          NaN             NaN          10.0   \n",
       "\n",
       "   sepal width  petal length  petal width  target  \n",
       "0         -7.0           5.6         -0.8       0  \n",
       "1         -6.0           5.6         -0.8       0  \n",
       "2         -6.4           5.2         -0.8       0  \n",
       "3         -6.2           6.0         -0.8       0  \n",
       "4         -7.2           5.6         -0.8       0  "
      ]
     },
     "execution_count": 66,
     "metadata": {},
     "output_type": "execute_result"
    }
   ],
   "source": [
    "file = pd.read_excel('my_iris.xlsx')\n",
    "file.drop(columns = ['Unnamed: 0'], inplace = True)\n",
    "file['target'] = file['target'].astype('category').cat.codes\n",
    "file.head()"
   ]
  },
  {
   "cell_type": "code",
   "execution_count": 67,
   "metadata": {},
   "outputs": [
    {
     "data": {
      "text/html": [
       "<div>\n",
       "<style scoped>\n",
       "    .dataframe tbody tr th:only-of-type {\n",
       "        vertical-align: middle;\n",
       "    }\n",
       "\n",
       "    .dataframe tbody tr th {\n",
       "        vertical-align: top;\n",
       "    }\n",
       "\n",
       "    .dataframe thead th {\n",
       "        text-align: right;\n",
       "    }\n",
       "</style>\n",
       "<table border=\"1\" class=\"dataframe\">\n",
       "  <thead>\n",
       "    <tr style=\"text-align: right;\">\n",
       "      <th></th>\n",
       "      <th>sepal depth</th>\n",
       "      <th>sepal diameter</th>\n",
       "      <th>petal depth</th>\n",
       "      <th>petal diameter</th>\n",
       "      <th>sepal length</th>\n",
       "      <th>sepal width</th>\n",
       "      <th>petal length</th>\n",
       "      <th>petal width</th>\n",
       "      <th>target</th>\n",
       "    </tr>\n",
       "  </thead>\n",
       "  <tbody>\n",
       "    <tr>\n",
       "      <th>count</th>\n",
       "      <td>130.000000</td>\n",
       "      <td>130.000000</td>\n",
       "      <td>130.000000</td>\n",
       "      <td>100.000000</td>\n",
       "      <td>150.000000</td>\n",
       "      <td>150.000000</td>\n",
       "      <td>150.000000</td>\n",
       "      <td>150.000000</td>\n",
       "      <td>150.000000</td>\n",
       "    </tr>\n",
       "    <tr>\n",
       "      <th>mean</th>\n",
       "      <td>5.901538</td>\n",
       "      <td>3.005385</td>\n",
       "      <td>4.115385</td>\n",
       "      <td>1.453000</td>\n",
       "      <td>11.686667</td>\n",
       "      <td>-6.108000</td>\n",
       "      <td>15.034667</td>\n",
       "      <td>-4.794667</td>\n",
       "      <td>1.000000</td>\n",
       "    </tr>\n",
       "    <tr>\n",
       "      <th>std</th>\n",
       "      <td>0.835082</td>\n",
       "      <td>0.410013</td>\n",
       "      <td>1.621200</td>\n",
       "      <td>0.685117</td>\n",
       "      <td>1.656132</td>\n",
       "      <td>0.867189</td>\n",
       "      <td>7.057682</td>\n",
       "      <td>3.052643</td>\n",
       "      <td>0.819232</td>\n",
       "    </tr>\n",
       "    <tr>\n",
       "      <th>min</th>\n",
       "      <td>4.300000</td>\n",
       "      <td>2.000000</td>\n",
       "      <td>1.100000</td>\n",
       "      <td>0.100000</td>\n",
       "      <td>8.600000</td>\n",
       "      <td>-8.800000</td>\n",
       "      <td>4.000000</td>\n",
       "      <td>-10.000000</td>\n",
       "      <td>0.000000</td>\n",
       "    </tr>\n",
       "    <tr>\n",
       "      <th>25%</th>\n",
       "      <td>5.125000</td>\n",
       "      <td>2.800000</td>\n",
       "      <td>3.350000</td>\n",
       "      <td>1.100000</td>\n",
       "      <td>10.200000</td>\n",
       "      <td>-6.600000</td>\n",
       "      <td>6.400000</td>\n",
       "      <td>-7.200000</td>\n",
       "      <td>0.000000</td>\n",
       "    </tr>\n",
       "    <tr>\n",
       "      <th>50%</th>\n",
       "      <td>5.850000</td>\n",
       "      <td>3.000000</td>\n",
       "      <td>4.500000</td>\n",
       "      <td>1.500000</td>\n",
       "      <td>11.600000</td>\n",
       "      <td>-6.000000</td>\n",
       "      <td>17.400000</td>\n",
       "      <td>-5.200000</td>\n",
       "      <td>1.000000</td>\n",
       "    </tr>\n",
       "    <tr>\n",
       "      <th>75%</th>\n",
       "      <td>6.475000</td>\n",
       "      <td>3.200000</td>\n",
       "      <td>5.200000</td>\n",
       "      <td>2.000000</td>\n",
       "      <td>12.800000</td>\n",
       "      <td>-5.600000</td>\n",
       "      <td>20.400000</td>\n",
       "      <td>-1.200000</td>\n",
       "      <td>2.000000</td>\n",
       "    </tr>\n",
       "    <tr>\n",
       "      <th>max</th>\n",
       "      <td>7.900000</td>\n",
       "      <td>4.100000</td>\n",
       "      <td>6.900000</td>\n",
       "      <td>2.500000</td>\n",
       "      <td>15.800000</td>\n",
       "      <td>-4.000000</td>\n",
       "      <td>27.600000</td>\n",
       "      <td>-0.400000</td>\n",
       "      <td>2.000000</td>\n",
       "    </tr>\n",
       "  </tbody>\n",
       "</table>\n",
       "</div>"
      ],
      "text/plain": [
       "       sepal depth  sepal diameter  petal depth  petal diameter  sepal length  \\\n",
       "count   130.000000      130.000000   130.000000      100.000000    150.000000   \n",
       "mean      5.901538        3.005385     4.115385        1.453000     11.686667   \n",
       "std       0.835082        0.410013     1.621200        0.685117      1.656132   \n",
       "min       4.300000        2.000000     1.100000        0.100000      8.600000   \n",
       "25%       5.125000        2.800000     3.350000        1.100000     10.200000   \n",
       "50%       5.850000        3.000000     4.500000        1.500000     11.600000   \n",
       "75%       6.475000        3.200000     5.200000        2.000000     12.800000   \n",
       "max       7.900000        4.100000     6.900000        2.500000     15.800000   \n",
       "\n",
       "       sepal width  petal length  petal width      target  \n",
       "count   150.000000    150.000000   150.000000  150.000000  \n",
       "mean     -6.108000     15.034667    -4.794667    1.000000  \n",
       "std       0.867189      7.057682     3.052643    0.819232  \n",
       "min      -8.800000      4.000000   -10.000000    0.000000  \n",
       "25%      -6.600000      6.400000    -7.200000    0.000000  \n",
       "50%      -6.000000     17.400000    -5.200000    1.000000  \n",
       "75%      -5.600000     20.400000    -1.200000    2.000000  \n",
       "max      -4.000000     27.600000    -0.400000    2.000000  "
      ]
     },
     "execution_count": 67,
     "metadata": {},
     "output_type": "execute_result"
    }
   ],
   "source": [
    "file.describe()\n"
   ]
  },
  {
   "cell_type": "code",
   "execution_count": 68,
   "metadata": {},
   "outputs": [
    {
     "data": {
      "text/plain": [
       "sepal depth       20\n",
       "sepal diameter    20\n",
       "petal depth       20\n",
       "petal diameter    50\n",
       "sepal length       0\n",
       "sepal width        0\n",
       "petal length       0\n",
       "petal width        0\n",
       "target             0\n",
       "dtype: int64"
      ]
     },
     "execution_count": 68,
     "metadata": {},
     "output_type": "execute_result"
    }
   ],
   "source": [
    "file.isna().sum()"
   ]
  },
  {
   "cell_type": "markdown",
   "metadata": {},
   "source": [
    "Here we see that 4 of the columns of the given dataframe have missing values\n",
    "so we deal with the missng values as *putting the mean of that column in its missing values"
   ]
  },
  {
   "cell_type": "code",
   "execution_count": 69,
   "metadata": {},
   "outputs": [],
   "source": [
    "filecopy = file.copy(deep = True)"
   ]
  },
  {
   "cell_type": "code",
   "execution_count": 70,
   "metadata": {},
   "outputs": [
    {
     "name": "stdout",
     "output_type": "stream",
     "text": [
      "sepal depth        5.901538\n",
      "sepal diameter     3.005385\n",
      "petal depth        4.115385\n",
      "petal diameter     1.453000\n",
      "sepal length      11.686667\n",
      "sepal width       -6.108000\n",
      "petal length      15.034667\n",
      "petal width       -4.794667\n",
      "target             1.000000\n",
      "dtype: float64\n",
      "sepal depth        5.85\n",
      "sepal diameter     3.00\n",
      "petal depth        4.50\n",
      "petal diameter     1.50\n",
      "sepal length      11.60\n",
      "sepal width       -6.00\n",
      "petal length      17.40\n",
      "petal width       -5.20\n",
      "target             1.00\n",
      "dtype: float64\n"
     ]
    }
   ],
   "source": [
    "# we can deal with the missing values using standard imputation mean median mode or \n",
    "# even linear regression model value.\n",
    "print(file.mean())\n",
    "print(file.median())"
   ]
  },
  {
   "cell_type": "markdown",
   "metadata": {},
   "source": [
    "First we compute the missing values with the mean of their respective column \n",
    "Incase Standard deviation is less among the columns, Mean will be a better solution"
   ]
  },
  {
   "cell_type": "code",
   "execution_count": 71,
   "metadata": {},
   "outputs": [],
   "source": [
    "filecopy['sepal depth'] = filecopy['sepal depth'].fillna(filecopy['sepal depth'].mean())\n",
    "filecopy['sepal diameter'] = filecopy['sepal diameter'].fillna(filecopy['sepal diameter'].mean())\n",
    "filecopy['petal diameter'] = filecopy['petal diameter'].fillna(filecopy['petal diameter'].mean())\n",
    "filecopy['petal depth'] = filecopy['petal depth'].fillna(filecopy['petal depth'].mean())\n",
    "\n"
   ]
  },
  {
   "cell_type": "code",
   "execution_count": 72,
   "metadata": {},
   "outputs": [
    {
     "data": {
      "text/html": [
       "<div>\n",
       "<style scoped>\n",
       "    .dataframe tbody tr th:only-of-type {\n",
       "        vertical-align: middle;\n",
       "    }\n",
       "\n",
       "    .dataframe tbody tr th {\n",
       "        vertical-align: top;\n",
       "    }\n",
       "\n",
       "    .dataframe thead th {\n",
       "        text-align: right;\n",
       "    }\n",
       "</style>\n",
       "<table border=\"1\" class=\"dataframe\">\n",
       "  <thead>\n",
       "    <tr style=\"text-align: right;\">\n",
       "      <th></th>\n",
       "      <th>sepal depth</th>\n",
       "      <th>sepal diameter</th>\n",
       "      <th>petal depth</th>\n",
       "      <th>petal diameter</th>\n",
       "      <th>sepal length</th>\n",
       "      <th>sepal width</th>\n",
       "      <th>petal length</th>\n",
       "      <th>petal width</th>\n",
       "      <th>target</th>\n",
       "    </tr>\n",
       "  </thead>\n",
       "  <tbody>\n",
       "    <tr>\n",
       "      <th>0</th>\n",
       "      <td>5.901538</td>\n",
       "      <td>3.005385</td>\n",
       "      <td>4.115385</td>\n",
       "      <td>1.453</td>\n",
       "      <td>10.2</td>\n",
       "      <td>-7.0</td>\n",
       "      <td>5.6</td>\n",
       "      <td>-0.8</td>\n",
       "      <td>0</td>\n",
       "    </tr>\n",
       "    <tr>\n",
       "      <th>1</th>\n",
       "      <td>4.900000</td>\n",
       "      <td>3.000000</td>\n",
       "      <td>1.400000</td>\n",
       "      <td>0.200</td>\n",
       "      <td>9.8</td>\n",
       "      <td>-6.0</td>\n",
       "      <td>5.6</td>\n",
       "      <td>-0.8</td>\n",
       "      <td>0</td>\n",
       "    </tr>\n",
       "    <tr>\n",
       "      <th>2</th>\n",
       "      <td>4.700000</td>\n",
       "      <td>3.200000</td>\n",
       "      <td>4.115385</td>\n",
       "      <td>1.453</td>\n",
       "      <td>9.4</td>\n",
       "      <td>-6.4</td>\n",
       "      <td>5.2</td>\n",
       "      <td>-0.8</td>\n",
       "      <td>0</td>\n",
       "    </tr>\n",
       "    <tr>\n",
       "      <th>3</th>\n",
       "      <td>4.600000</td>\n",
       "      <td>3.005385</td>\n",
       "      <td>1.500000</td>\n",
       "      <td>1.453</td>\n",
       "      <td>9.2</td>\n",
       "      <td>-6.2</td>\n",
       "      <td>6.0</td>\n",
       "      <td>-0.8</td>\n",
       "      <td>0</td>\n",
       "    </tr>\n",
       "    <tr>\n",
       "      <th>4</th>\n",
       "      <td>5.901538</td>\n",
       "      <td>3.600000</td>\n",
       "      <td>4.115385</td>\n",
       "      <td>1.453</td>\n",
       "      <td>10.0</td>\n",
       "      <td>-7.2</td>\n",
       "      <td>5.6</td>\n",
       "      <td>-0.8</td>\n",
       "      <td>0</td>\n",
       "    </tr>\n",
       "  </tbody>\n",
       "</table>\n",
       "</div>"
      ],
      "text/plain": [
       "   sepal depth  sepal diameter  petal depth  petal diameter  sepal length  \\\n",
       "0     5.901538        3.005385     4.115385           1.453          10.2   \n",
       "1     4.900000        3.000000     1.400000           0.200           9.8   \n",
       "2     4.700000        3.200000     4.115385           1.453           9.4   \n",
       "3     4.600000        3.005385     1.500000           1.453           9.2   \n",
       "4     5.901538        3.600000     4.115385           1.453          10.0   \n",
       "\n",
       "   sepal width  petal length  petal width  target  \n",
       "0         -7.0           5.6         -0.8       0  \n",
       "1         -6.0           5.6         -0.8       0  \n",
       "2         -6.4           5.2         -0.8       0  \n",
       "3         -6.2           6.0         -0.8       0  \n",
       "4         -7.2           5.6         -0.8       0  "
      ]
     },
     "execution_count": 72,
     "metadata": {},
     "output_type": "execute_result"
    }
   ],
   "source": [
    "filecopy.head()"
   ]
  },
  {
   "cell_type": "code",
   "execution_count": 73,
   "metadata": {},
   "outputs": [
    {
     "data": {
      "text/html": [
       "<div>\n",
       "<style scoped>\n",
       "    .dataframe tbody tr th:only-of-type {\n",
       "        vertical-align: middle;\n",
       "    }\n",
       "\n",
       "    .dataframe tbody tr th {\n",
       "        vertical-align: top;\n",
       "    }\n",
       "\n",
       "    .dataframe thead th {\n",
       "        text-align: right;\n",
       "    }\n",
       "</style>\n",
       "<table border=\"1\" class=\"dataframe\">\n",
       "  <thead>\n",
       "    <tr style=\"text-align: right;\">\n",
       "      <th></th>\n",
       "      <th>sepal depth</th>\n",
       "      <th>sepal diameter</th>\n",
       "      <th>petal depth</th>\n",
       "      <th>petal diameter</th>\n",
       "      <th>sepal length</th>\n",
       "      <th>sepal width</th>\n",
       "      <th>petal length</th>\n",
       "      <th>petal width</th>\n",
       "      <th>target</th>\n",
       "    </tr>\n",
       "  </thead>\n",
       "  <tbody>\n",
       "    <tr>\n",
       "      <th>sepal depth</th>\n",
       "      <td>0.000000</td>\n",
       "      <td>-0.008792</td>\n",
       "      <td>-0.080806</td>\n",
       "      <td>-0.121284</td>\n",
       "      <td>-0.061648</td>\n",
       "      <td>-0.006145</td>\n",
       "      <td>-0.075941</td>\n",
       "      <td>0.068232</td>\n",
       "      <td>-0.057999</td>\n",
       "    </tr>\n",
       "    <tr>\n",
       "      <th>sepal diameter</th>\n",
       "      <td>-0.008792</td>\n",
       "      <td>0.000000</td>\n",
       "      <td>0.024823</td>\n",
       "      <td>0.012505</td>\n",
       "      <td>0.004070</td>\n",
       "      <td>0.120136</td>\n",
       "      <td>0.039113</td>\n",
       "      <td>-0.029912</td>\n",
       "      <td>0.034570</td>\n",
       "    </tr>\n",
       "    <tr>\n",
       "      <th>petal depth</th>\n",
       "      <td>-0.080806</td>\n",
       "      <td>0.024823</td>\n",
       "      <td>0.000000</td>\n",
       "      <td>-0.151433</td>\n",
       "      <td>-0.081353</td>\n",
       "      <td>-0.033677</td>\n",
       "      <td>-0.145059</td>\n",
       "      <td>0.132294</td>\n",
       "      <td>-0.114870</td>\n",
       "    </tr>\n",
       "    <tr>\n",
       "      <th>petal diameter</th>\n",
       "      <td>-0.121284</td>\n",
       "      <td>0.012505</td>\n",
       "      <td>-0.151433</td>\n",
       "      <td>0.000000</td>\n",
       "      <td>-0.162618</td>\n",
       "      <td>-0.018030</td>\n",
       "      <td>-0.266035</td>\n",
       "      <td>0.268233</td>\n",
       "      <td>-0.232193</td>\n",
       "    </tr>\n",
       "    <tr>\n",
       "      <th>sepal length</th>\n",
       "      <td>-0.061648</td>\n",
       "      <td>0.004070</td>\n",
       "      <td>-0.081353</td>\n",
       "      <td>-0.162618</td>\n",
       "      <td>0.000000</td>\n",
       "      <td>0.000000</td>\n",
       "      <td>0.000000</td>\n",
       "      <td>0.000000</td>\n",
       "      <td>0.000000</td>\n",
       "    </tr>\n",
       "  </tbody>\n",
       "</table>\n",
       "</div>"
      ],
      "text/plain": [
       "                sepal depth  sepal diameter  petal depth  petal diameter  \\\n",
       "sepal depth        0.000000       -0.008792    -0.080806       -0.121284   \n",
       "sepal diameter    -0.008792        0.000000     0.024823        0.012505   \n",
       "petal depth       -0.080806        0.024823     0.000000       -0.151433   \n",
       "petal diameter    -0.121284        0.012505    -0.151433        0.000000   \n",
       "sepal length      -0.061648        0.004070    -0.081353       -0.162618   \n",
       "\n",
       "                sepal length  sepal width  petal length  petal width    target  \n",
       "sepal depth        -0.061648    -0.006145     -0.075941     0.068232 -0.057999  \n",
       "sepal diameter      0.004070     0.120136      0.039113    -0.029912  0.034570  \n",
       "petal depth        -0.081353    -0.033677     -0.145059     0.132294 -0.114870  \n",
       "petal diameter     -0.162618    -0.018030     -0.266035     0.268233 -0.232193  \n",
       "sepal length        0.000000     0.000000      0.000000     0.000000  0.000000  "
      ]
     },
     "execution_count": 73,
     "metadata": {},
     "output_type": "execute_result"
    }
   ],
   "source": [
    "checker = filecopy.corr()-file.corr()\n",
    "checker.head()"
   ]
  },
  {
   "cell_type": "code",
   "execution_count": 74,
   "metadata": {},
   "outputs": [
    {
     "data": {
      "text/plain": [
       "<AxesSubplot:>"
      ]
     },
     "execution_count": 74,
     "metadata": {},
     "output_type": "execute_result"
    },
    {
     "data": {
      "image/png": "[encoded data removed]",
      "text/plain": [
       "<Figure size 432x288 with 2 Axes>"
      ]
     },
     "metadata": {
      "needs_background": "light"
     },
     "output_type": "display_data"
    }
   ],
   "source": [
    "sns.heatmap(checker,annot = True)"
   ]
  },
  {
   "cell_type": "markdown",
   "metadata": {},
   "source": [
    "Now we replace the missing values with their median \n",
    "Incase the standard deviaition is more among the columns, it will be a better option"
   ]
  },
  {
   "cell_type": "code",
   "execution_count": 75,
   "metadata": {},
   "outputs": [],
   "source": [
    "filecopy2 = file.copy(deep = True)"
   ]
  },
  {
   "cell_type": "code",
   "execution_count": 76,
   "metadata": {},
   "outputs": [],
   "source": [
    "filecopy2['sepal depth'] = filecopy2['sepal depth'].fillna(filecopy2['sepal depth'].median())\n",
    "filecopy2['sepal diameter'] = filecopy2['sepal diameter'].fillna(filecopy2['sepal diameter'].median())\n",
    "filecopy2['petal diameter'] = filecopy2['petal diameter'].fillna(filecopy2['petal diameter'].median())\n",
    "filecopy2['petal depth'] = filecopy2['petal depth'].fillna(filecopy2['petal depth'].median())"
   ]
  },
  {
   "cell_type": "code",
   "execution_count": 77,
   "metadata": {},
   "outputs": [
    {
     "data": {
      "text/html": [
       "<div>\n",
       "<style scoped>\n",
       "    .dataframe tbody tr th:only-of-type {\n",
       "        vertical-align: middle;\n",
       "    }\n",
       "\n",
       "    .dataframe tbody tr th {\n",
       "        vertical-align: top;\n",
       "    }\n",
       "\n",
       "    .dataframe thead th {\n",
       "        text-align: right;\n",
       "    }\n",
       "</style>\n",
       "<table border=\"1\" class=\"dataframe\">\n",
       "  <thead>\n",
       "    <tr style=\"text-align: right;\">\n",
       "      <th></th>\n",
       "      <th>sepal depth</th>\n",
       "      <th>sepal diameter</th>\n",
       "      <th>petal depth</th>\n",
       "      <th>petal diameter</th>\n",
       "      <th>sepal length</th>\n",
       "      <th>sepal width</th>\n",
       "      <th>petal length</th>\n",
       "      <th>petal width</th>\n",
       "      <th>target</th>\n",
       "    </tr>\n",
       "  </thead>\n",
       "  <tbody>\n",
       "    <tr>\n",
       "      <th>0</th>\n",
       "      <td>5.85</td>\n",
       "      <td>3.0</td>\n",
       "      <td>4.5</td>\n",
       "      <td>1.5</td>\n",
       "      <td>10.2</td>\n",
       "      <td>-7.0</td>\n",
       "      <td>5.6</td>\n",
       "      <td>-0.8</td>\n",
       "      <td>0</td>\n",
       "    </tr>\n",
       "    <tr>\n",
       "      <th>1</th>\n",
       "      <td>4.90</td>\n",
       "      <td>3.0</td>\n",
       "      <td>1.4</td>\n",
       "      <td>0.2</td>\n",
       "      <td>9.8</td>\n",
       "      <td>-6.0</td>\n",
       "      <td>5.6</td>\n",
       "      <td>-0.8</td>\n",
       "      <td>0</td>\n",
       "    </tr>\n",
       "    <tr>\n",
       "      <th>2</th>\n",
       "      <td>4.70</td>\n",
       "      <td>3.2</td>\n",
       "      <td>4.5</td>\n",
       "      <td>1.5</td>\n",
       "      <td>9.4</td>\n",
       "      <td>-6.4</td>\n",
       "      <td>5.2</td>\n",
       "      <td>-0.8</td>\n",
       "      <td>0</td>\n",
       "    </tr>\n",
       "    <tr>\n",
       "      <th>3</th>\n",
       "      <td>4.60</td>\n",
       "      <td>3.0</td>\n",
       "      <td>1.5</td>\n",
       "      <td>1.5</td>\n",
       "      <td>9.2</td>\n",
       "      <td>-6.2</td>\n",
       "      <td>6.0</td>\n",
       "      <td>-0.8</td>\n",
       "      <td>0</td>\n",
       "    </tr>\n",
       "    <tr>\n",
       "      <th>4</th>\n",
       "      <td>5.85</td>\n",
       "      <td>3.6</td>\n",
       "      <td>4.5</td>\n",
       "      <td>1.5</td>\n",
       "      <td>10.0</td>\n",
       "      <td>-7.2</td>\n",
       "      <td>5.6</td>\n",
       "      <td>-0.8</td>\n",
       "      <td>0</td>\n",
       "    </tr>\n",
       "  </tbody>\n",
       "</table>\n",
       "</div>"
      ],
      "text/plain": [
       "   sepal depth  sepal diameter  petal depth  petal diameter  sepal length  \\\n",
       "0         5.85             3.0          4.5             1.5          10.2   \n",
       "1         4.90             3.0          1.4             0.2           9.8   \n",
       "2         4.70             3.2          4.5             1.5           9.4   \n",
       "3         4.60             3.0          1.5             1.5           9.2   \n",
       "4         5.85             3.6          4.5             1.5          10.0   \n",
       "\n",
       "   sepal width  petal length  petal width  target  \n",
       "0         -7.0           5.6         -0.8       0  \n",
       "1         -6.0           5.6         -0.8       0  \n",
       "2         -6.4           5.2         -0.8       0  \n",
       "3         -6.2           6.0         -0.8       0  \n",
       "4         -7.2           5.6         -0.8       0  "
      ]
     },
     "execution_count": 77,
     "metadata": {},
     "output_type": "execute_result"
    }
   ],
   "source": [
    "filecopy2.head()"
   ]
  },
  {
   "cell_type": "code",
   "execution_count": 78,
   "metadata": {},
   "outputs": [
    {
     "data": {
      "text/html": [
       "<div>\n",
       "<style scoped>\n",
       "    .dataframe tbody tr th:only-of-type {\n",
       "        vertical-align: middle;\n",
       "    }\n",
       "\n",
       "    .dataframe tbody tr th {\n",
       "        vertical-align: top;\n",
       "    }\n",
       "\n",
       "    .dataframe thead th {\n",
       "        text-align: right;\n",
       "    }\n",
       "</style>\n",
       "<table border=\"1\" class=\"dataframe\">\n",
       "  <thead>\n",
       "    <tr style=\"text-align: right;\">\n",
       "      <th></th>\n",
       "      <th>sepal depth</th>\n",
       "      <th>sepal diameter</th>\n",
       "      <th>petal depth</th>\n",
       "      <th>petal diameter</th>\n",
       "      <th>sepal length</th>\n",
       "      <th>sepal width</th>\n",
       "      <th>petal length</th>\n",
       "      <th>petal width</th>\n",
       "      <th>target</th>\n",
       "    </tr>\n",
       "  </thead>\n",
       "  <tbody>\n",
       "    <tr>\n",
       "      <th>sepal depth</th>\n",
       "      <td>0.000000</td>\n",
       "      <td>-0.010227</td>\n",
       "      <td>-0.103161</td>\n",
       "      <td>-0.134282</td>\n",
       "      <td>-0.057821</td>\n",
       "      <td>-0.002645</td>\n",
       "      <td>-0.069871</td>\n",
       "      <td>0.061848</td>\n",
       "      <td>-0.051122</td>\n",
       "    </tr>\n",
       "    <tr>\n",
       "      <th>sepal diameter</th>\n",
       "      <td>-0.010227</td>\n",
       "      <td>0.000000</td>\n",
       "      <td>0.054797</td>\n",
       "      <td>0.018263</td>\n",
       "      <td>0.005577</td>\n",
       "      <td>0.121527</td>\n",
       "      <td>0.041128</td>\n",
       "      <td>-0.031909</td>\n",
       "      <td>0.036539</td>\n",
       "    </tr>\n",
       "    <tr>\n",
       "      <th>petal depth</th>\n",
       "      <td>-0.103161</td>\n",
       "      <td>0.054797</td>\n",
       "      <td>0.000000</td>\n",
       "      <td>-0.161860</td>\n",
       "      <td>-0.117591</td>\n",
       "      <td>-0.065844</td>\n",
       "      <td>-0.193079</td>\n",
       "      <td>0.179321</td>\n",
       "      <td>-0.159570</td>\n",
       "    </tr>\n",
       "    <tr>\n",
       "      <th>petal diameter</th>\n",
       "      <td>-0.134282</td>\n",
       "      <td>0.018263</td>\n",
       "      <td>-0.161860</td>\n",
       "      <td>0.000000</td>\n",
       "      <td>-0.178156</td>\n",
       "      <td>-0.029517</td>\n",
       "      <td>-0.285484</td>\n",
       "      <td>0.287621</td>\n",
       "      <td>-0.252730</td>\n",
       "    </tr>\n",
       "    <tr>\n",
       "      <th>sepal length</th>\n",
       "      <td>-0.057821</td>\n",
       "      <td>0.005577</td>\n",
       "      <td>-0.117591</td>\n",
       "      <td>-0.178156</td>\n",
       "      <td>0.000000</td>\n",
       "      <td>0.000000</td>\n",
       "      <td>0.000000</td>\n",
       "      <td>0.000000</td>\n",
       "      <td>0.000000</td>\n",
       "    </tr>\n",
       "    <tr>\n",
       "      <th>sepal width</th>\n",
       "      <td>-0.002645</td>\n",
       "      <td>0.121527</td>\n",
       "      <td>-0.065844</td>\n",
       "      <td>-0.029517</td>\n",
       "      <td>0.000000</td>\n",
       "      <td>0.000000</td>\n",
       "      <td>0.000000</td>\n",
       "      <td>0.000000</td>\n",
       "      <td>0.000000</td>\n",
       "    </tr>\n",
       "    <tr>\n",
       "      <th>petal length</th>\n",
       "      <td>-0.069871</td>\n",
       "      <td>0.041128</td>\n",
       "      <td>-0.193079</td>\n",
       "      <td>-0.285484</td>\n",
       "      <td>0.000000</td>\n",
       "      <td>0.000000</td>\n",
       "      <td>0.000000</td>\n",
       "      <td>0.000000</td>\n",
       "      <td>0.000000</td>\n",
       "    </tr>\n",
       "    <tr>\n",
       "      <th>petal width</th>\n",
       "      <td>0.061848</td>\n",
       "      <td>-0.031909</td>\n",
       "      <td>0.179321</td>\n",
       "      <td>0.287621</td>\n",
       "      <td>0.000000</td>\n",
       "      <td>0.000000</td>\n",
       "      <td>0.000000</td>\n",
       "      <td>0.000000</td>\n",
       "      <td>0.000000</td>\n",
       "    </tr>\n",
       "    <tr>\n",
       "      <th>target</th>\n",
       "      <td>-0.051122</td>\n",
       "      <td>0.036539</td>\n",
       "      <td>-0.159570</td>\n",
       "      <td>-0.252730</td>\n",
       "      <td>0.000000</td>\n",
       "      <td>0.000000</td>\n",
       "      <td>0.000000</td>\n",
       "      <td>0.000000</td>\n",
       "      <td>0.000000</td>\n",
       "    </tr>\n",
       "  </tbody>\n",
       "</table>\n",
       "</div>"
      ],
      "text/plain": [
       "                sepal depth  sepal diameter  petal depth  petal diameter  \\\n",
       "sepal depth        0.000000       -0.010227    -0.103161       -0.134282   \n",
       "sepal diameter    -0.010227        0.000000     0.054797        0.018263   \n",
       "petal depth       -0.103161        0.054797     0.000000       -0.161860   \n",
       "petal diameter    -0.134282        0.018263    -0.161860        0.000000   \n",
       "sepal length      -0.057821        0.005577    -0.117591       -0.178156   \n",
       "sepal width       -0.002645        0.121527    -0.065844       -0.029517   \n",
       "petal length      -0.069871        0.041128    -0.193079       -0.285484   \n",
       "petal width        0.061848       -0.031909     0.179321        0.287621   \n",
       "target            -0.051122        0.036539    -0.159570       -0.252730   \n",
       "\n",
       "                sepal length  sepal width  petal length  petal width    target  \n",
       "sepal depth        -0.057821    -0.002645     -0.069871     0.061848 -0.051122  \n",
       "sepal diameter      0.005577     0.121527      0.041128    -0.031909  0.036539  \n",
       "petal depth        -0.117591    -0.065844     -0.193079     0.179321 -0.159570  \n",
       "petal diameter     -0.178156    -0.029517     -0.285484     0.287621 -0.252730  \n",
       "sepal length        0.000000     0.000000      0.000000     0.000000  0.000000  \n",
       "sepal width         0.000000     0.000000      0.000000     0.000000  0.000000  \n",
       "petal length        0.000000     0.000000      0.000000     0.000000  0.000000  \n",
       "petal width         0.000000     0.000000      0.000000     0.000000  0.000000  \n",
       "target              0.000000     0.000000      0.000000     0.000000  0.000000  "
      ]
     },
     "execution_count": 78,
     "metadata": {},
     "output_type": "execute_result"
    }
   ],
   "source": [
    "checker2 = filecopy2.corr()-file.corr()\n",
    "checker2"
   ]
  },
  {
   "cell_type": "code",
   "execution_count": 79,
   "metadata": {},
   "outputs": [
    {
     "data": {
      "text/plain": [
       "<AxesSubplot:>"
      ]
     },
     "execution_count": 79,
     "metadata": {},
     "output_type": "execute_result"
    },
    {
     "data": {
      "image/png": "[encoded data removed]",
      "text/plain": [
       "<Figure size 432x288 with 2 Axes>"
      ]
     },
     "metadata": {
      "needs_background": "light"
     },
     "output_type": "display_data"
    }
   ],
   "source": [
    "sns.heatmap(checker2,annot = True)"
   ]
  },
  {
   "cell_type": "markdown",
   "metadata": {},
   "source": [
    "HOME TASK "
   ]
  },
  {
   "cell_type": "markdown",
   "metadata": {},
   "source": [
    "Now we will apply the linear regression model on both of the models and will check which of the wrangling technique was good"
   ]
  },
  {
   "cell_type": "code",
   "execution_count": 82,
   "metadata": {},
   "outputs": [],
   "source": [
    "from sklearn.linear_model import LinearRegression\n",
    "from sklearn.metrics import mean_squared_error"
   ]
  },
  {
   "cell_type": "code",
   "execution_count": 90,
   "metadata": {},
   "outputs": [],
   "source": [
    "lin_reg = LinearRegression()\n",
    "\n",
    "row = filecopy.shape[0]\n",
    "train, test = filecopy.iloc[:int(row*0.75)], filecopy.iloc[int(row*0.75): ]\n",
    "trainX, trainY = train.iloc[:,:-1], train.iloc[:, [-1]]\n",
    "testX,testY = test.iloc[:,:-1], test.iloc[:, [-1]]\n",
    "\n",
    "model = lin_reg.fit(trainX, trainY)\n"
   ]
  },
  {
   "cell_type": "code",
   "execution_count": 88,
   "metadata": {},
   "outputs": [],
   "source": [
    "pred = model.predict(testX)"
   ]
  },
  {
   "cell_type": "code",
   "execution_count": 92,
   "metadata": {},
   "outputs": [
    {
     "data": {
      "text/plain": [
       "0.1486457570887049"
      ]
     },
     "execution_count": 92,
     "metadata": {},
     "output_type": "execute_result"
    }
   ],
   "source": [
    "mean_squared_error(testY, pred)\n",
    "\n",
    "    "
   ]
  },
  {
   "cell_type": "code",
   "execution_count": 96,
   "metadata": {},
   "outputs": [
    {
     "data": {
      "image/png": "[encoded data removed]",
      "text/plain": [
       "<Figure size 432x288 with 1 Axes>"
      ]
     },
     "metadata": {
      "needs_background": "light"
     },
     "output_type": "display_data"
    }
   ],
   "source": [
    "plt.plot(list(range(pred.shape[0])), pred, label=\"Prediction\")\n",
    "plt.plot(list(range(pred.shape[0])), testY, label=\"Original\")\n",
    "plt.legend()\n",
    "plt.show()\n"
   ]
  },
  {
   "cell_type": "code",
   "execution_count": null,
   "metadata": {},
   "outputs": [],
   "source": []
  }
 ],
 "metadata": {
  "kernelspec": {
   "display_name": "Python 3.9.7 64-bit",
   "language": "python",
   "name": "python3"
  },
  "language_info": {
   "codemirror_mode": {
    "name": "ipython",
    "version": 3
   },
   "file_extension": ".py",
   "mimetype": "text/x-python",
   "name": "python",
   "nbconvert_exporter": "python",
   "pygments_lexer": "ipython3",
   "version": "3.9.7"
  },
  "orig_nbformat": 4,
  "vscode": {
   "interpreter": {
    "hash": "9fd60b8bb15377d59e74e9fea1e7409c02a309b91caf5779becf2247a2e38203"
   }
  }
 },
 "nbformat": 4,
 "nbformat_minor": 2
}
