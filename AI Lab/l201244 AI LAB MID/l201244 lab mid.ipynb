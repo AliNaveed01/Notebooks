{
 "cells": [
  {
   "attachments": {},
   "cell_type": "markdown",
   "metadata": {},
   "source": [
    "### Midterm Exam\n",
    "#                                               Aritificial Intelligence "
   ]
  },
  {
   "cell_type": "code",
   "execution_count": 42,
   "metadata": {},
   "outputs": [],
   "source": [
    "import numpy as np\n",
    "import matplotlib.pyplot as plt\n",
    "import pandas as pd\n",
    "import seaborn as sns\n",
    "import scipy.stats as stats\n",
    "import plotly.express as px\n",
    "import networkx as nx"
   ]
  },
  {
   "cell_type": "code",
   "execution_count": 43,
   "metadata": {},
   "outputs": [],
   "source": [
    "def bfs_with_distance(adj_list, start, num_vertices):\n",
    "    #create a list of all the vertices\n",
    "    vertices = [i for i in range(num_vertices)]\n",
    "    distances = {i:float('inf') for i in vertices}\n",
    "    distances[start] = 0\n",
    "    queue = [start]\n",
    "    order_visited = []\n",
    "    while queue:\n",
    "        #pop the first element in the queue\n",
    "        current = queue.pop(0)\n",
    "        #add the current vertex to the order visited\n",
    "        order_visited.append(current)\n",
    "        #for each neighbor of the current vertex\n",
    "        for neighbor in adj_list[current]:\n",
    "            if distances[neighbor] == float('inf'):\n",
    "                distances[neighbor] = distances[current] + 1\n",
    "                queue.append(neighbor)\n",
    "    return order_visited, list(distances.values())\n"
   ]
  },
  {
   "cell_type": "code",
   "execution_count": 44,
   "metadata": {},
   "outputs": [
    {
     "name": "stdout",
     "output_type": "stream",
     "text": [
      "[0, 1, 3, 2, 4, 5]\n",
      "[3, 4]\n",
      "[5, 4]\n",
      "All test cases passed!\n"
     ]
    }
   ],
   "source": [
    "# Example graph:\n",
    "# 0 -> 1 -> 2\n",
    "# |    |    |\n",
    "# v    v    v\n",
    "# 3 -> 4 <- 5\n",
    "adj_list = [\n",
    "    [1, 3],\n",
    "    [2, 4],\n",
    "    [5],\n",
    "    [4],\n",
    "    [],\n",
    "    [4]\n",
    "]\n",
    "\n",
    "# Test case 1:\n",
    "start = 0\n",
    "num_vertices = 6\n",
    "order_visited, distances = bfs_with_distance(adj_list, start, num_vertices)\n",
    "print(order_visited)\n",
    "#visualize_path(order_visited, distances)\n",
    "\n",
    "# Test case 2:\n",
    "start = 3\n",
    "num_vertices = 6\n",
    "order_visited, distances = bfs_with_distance(adj_list, start, num_vertices)\n",
    "\n",
    "print(order_visited)\n",
    "# Test case 3:\n",
    "start = 5\n",
    "num_vertices = 6\n",
    "order_visited, distances = bfs_with_distance(adj_list, start, num_vertices)\n",
    "print(order_visited)\n",
    "\n",
    "\n",
    "print(\"All test cases passed!\")\n"
   ]
  },
  {
   "attachments": {},
   "cell_type": "markdown",
   "metadata": {},
   "source": [
    "### Question number 2"
   ]
  },
  {
   "cell_type": "code",
   "execution_count": 45,
   "metadata": {},
   "outputs": [
    {
     "name": "stdout",
     "output_type": "stream",
     "text": [
      "[[6 0 0 0 0 0 0 0 0 1]\n",
      " [1 1 0 1 0 1 1 1 1 1]\n",
      " [0 1 0 1 0 0 0 0 0 1]\n",
      " [1 1 0 1 0 1 1 1 0 1]\n",
      " [0 1 0 1 0 0 0 1 0 0]\n",
      " [0 1 2 0 0 1 1 1 1 1]\n",
      " [0 0 0 0 0 0 0 0 0 1]\n",
      " [1 1 1 1 0 1 1 1 0 1]\n",
      " [0 0 0 0 0 1 0 0 0 1]\n",
      " [0 1 1 1 1 1 0 1 0 7]]\n"
     ]
    }
   ],
   "source": [
    "#write a function to read the cube from a text file\n",
    "def read_file(filename):\n",
    "    # open the file\n",
    "    with open(filename) as file:\n",
    "        # read the lines\n",
    "        lines = file.readlines()\n",
    "        # create an empty list to store the lines\n",
    "        lines_list = []\n",
    "        # for each line\n",
    "        for line in lines:\n",
    "            # remove the new line character\n",
    "            line = line.strip()\n",
    "            # split the line\n",
    "            line = line.split()\n",
    "            # convert the line to a list of integers\n",
    "            line = [int(i) for i in line]\n",
    "            # append the line to the list\n",
    "            lines_list.append(line)\n",
    "        # convert the list to a numpy array\n",
    "        cube = np.array(lines_list)\n",
    "    # return the cube\n",
    "    return cube\n",
    "\n",
    "file = 'graph.txt'\n",
    "cube = read_file(file)\n",
    "print(cube)\n"
   ]
  },
  {
   "attachments": {},
   "cell_type": "markdown",
   "metadata": {},
   "source": [
    "### Following is the simple implementation of the A* algorithm"
   ]
  },
  {
   "cell_type": "code",
   "execution_count": 46,
   "metadata": {},
   "outputs": [],
   "source": [
    "def A_star(cube):\n",
    "    dim = cube.shape[0]\n",
    "    start = np.where(cube == 6)\n",
    "    goal = np.where(cube == 7)\n",
    "    queue = []\n",
    "    visited = []\n",
    "    heappush(queue, (0, 0, start))\n",
    "    while queue:\n",
    "        node = heappop(queue)\n",
    "        # if the node is not visited\n",
    "        if node[2] not in visited:\n",
    "            # mark the node as visited\n",
    "            visited.append(node[2])\n",
    "            # if the node is the goal point\n",
    "            if cube[node[2]] == 7:\n",
    "                # return the path\n",
    "                return visited\n",
    "            # get the neighbors of the node\n",
    "            neighbors = get_neighbors(node[2], dim)\n",
    "            # for each neighbor\n",
    "            for neighbor in neighbors:\n",
    "                # if the neighbor is not a wall\n",
    "                if cube[neighbor] != 1:\n",
    "                    heappush(queue, (node[1] + 1 + euclidean_distance(neighbor, goal), node[1] + 1, neighbor))\n",
    "    \n",
    "    # if there is no path from the start point to the goal point\n",
    "    return -1\n",
    "\n",
    "\n",
    "def euclidean_distance(point1, point2):\n",
    "    row1 = point1[0]\n",
    "    col1 = point1[1]\n",
    "    row2 = point2[0]\n",
    "    col2 = point2[1]\n",
    "    distance = np.sqrt((row1 - row2) ** 2 + (col1 - col2) ** 2)\n",
    "    return distance\n",
    "\n",
    "#write heappush and heappop functions\n",
    "def heappush(heap, item):\n",
    "    heap.append(item)\n",
    "    _siftdown(heap, 0, len(heap)-1)\n",
    "\n",
    "def heappop(heap):\n",
    "    lastelt = heap.pop()    # raises appropriate IndexError if heap is empty\n",
    "    if heap:\n",
    "        returnitem = heap[0]\n",
    "        heap[0] = lastelt\n",
    "        _siftup(heap, 0)\n",
    "        return returnitem\n",
    "    return lastelt\n",
    "\n",
    "def _siftdown(heap, startpos, pos):\n",
    "    newitem = heap[pos]\n",
    "    while pos > startpos:\n",
    "        parentpos = (pos - 1) >> 1\n",
    "        parent = heap[parentpos]\n",
    "        if newitem < parent:\n",
    "            heap[pos] = parent\n",
    "            pos = parentpos\n",
    "            continue\n",
    "        break\n",
    "    heap[pos] = newitem\n",
    "    \n",
    "    \n",
    "def _siftup(heap, pos):\n",
    "    endpos = len(heap)\n",
    "    startpos = pos\n",
    "    newitem = heap[pos]\n",
    "    # Bubble up the smaller child until hitting a leaf.\n",
    "    childpos = 2*pos + 1    # leftmost child position\n",
    "    while childpos < endpos:\n",
    "        # Set childpos to index of smaller child.\n",
    "        rightpos = childpos + 1\n",
    "        if rightpos < endpos and not heap[childpos] < heap[rightpos]:\n",
    "            childpos = rightpos\n",
    "        # Move the smaller child up.\n",
    "        heap[pos] = heap[childpos]\n",
    "        pos = childpos\n",
    "        childpos = 2*pos + 1\n",
    "    heap[pos] = newitem\n",
    "    _siftdown(heap, startpos, pos)"
   ]
  }
 ],
 "metadata": {
  "kernelspec": {
   "display_name": "Python 3",
   "language": "python",
   "name": "python3"
  },
  "language_info": {
   "codemirror_mode": {
    "name": "ipython",
    "version": 3
   },
   "file_extension": ".py",
   "mimetype": "text/x-python",
   "name": "python",
   "nbconvert_exporter": "python",
   "pygments_lexer": "ipython3",
   "version": "3.9.7"
  },
  "orig_nbformat": 4
 },
 "nbformat": 4,
 "nbformat_minor": 2
}
