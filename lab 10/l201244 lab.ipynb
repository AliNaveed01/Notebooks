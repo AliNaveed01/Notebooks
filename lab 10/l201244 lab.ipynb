{
 "cells": [
  {
   "cell_type": "code",
   "execution_count": 2,
   "id": "baf481fd",
   "metadata": {},
   "outputs": [],
   "source": [
    "import pandas as pd\n",
    "import numpy as np\n",
    "import plotly as px\n",
    "#import matplotlib.pyplot as plt\n",
    "import math\n",
    "import random\n",
    "import seaborn as sns"
   ]
  },
  {
   "cell_type": "code",
   "execution_count": 3,
   "id": "5c5316f3",
   "metadata": {},
   "outputs": [
    {
     "data": {
      "text/html": [
       "<div>\n",
       "<style scoped>\n",
       "    .dataframe tbody tr th:only-of-type {\n",
       "        vertical-align: middle;\n",
       "    }\n",
       "\n",
       "    .dataframe tbody tr th {\n",
       "        vertical-align: top;\n",
       "    }\n",
       "\n",
       "    .dataframe thead th {\n",
       "        text-align: right;\n",
       "    }\n",
       "</style>\n",
       "<table border=\"1\" class=\"dataframe\">\n",
       "  <thead>\n",
       "    <tr style=\"text-align: right;\">\n",
       "      <th></th>\n",
       "      <th>Date</th>\n",
       "      <th>YEAR</th>\n",
       "      <th>MONTH</th>\n",
       "      <th>Bldg #</th>\n",
       "      <th>Side</th>\n",
       "      <th>SpeciesCode</th>\n",
       "      <th>Common Name</th>\n",
       "      <th>Deaths</th>\n",
       "    </tr>\n",
       "  </thead>\n",
       "  <tbody>\n",
       "    <tr>\n",
       "      <th>0</th>\n",
       "      <td>10/19/2013</td>\n",
       "      <td>2013</td>\n",
       "      <td>OCT</td>\n",
       "      <td>twelve</td>\n",
       "      <td>E</td>\n",
       "      <td>MODO</td>\n",
       "      <td>Mourning Dove</td>\n",
       "      <td>1</td>\n",
       "    </tr>\n",
       "    <tr>\n",
       "      <th>1</th>\n",
       "      <td>10/22/2013</td>\n",
       "      <td>2013</td>\n",
       "      <td>OCT</td>\n",
       "      <td>seventeen</td>\n",
       "      <td>C</td>\n",
       "      <td>EATO</td>\n",
       "      <td>Eastern Towhee</td>\n",
       "      <td>1</td>\n",
       "    </tr>\n",
       "    <tr>\n",
       "      <th>2</th>\n",
       "      <td>10/23/2013</td>\n",
       "      <td>2013</td>\n",
       "      <td>OCT</td>\n",
       "      <td>ten</td>\n",
       "      <td>D</td>\n",
       "      <td>HETH</td>\n",
       "      <td>Hermit Thrush</td>\n",
       "      <td>1</td>\n",
       "    </tr>\n",
       "    <tr>\n",
       "      <th>3</th>\n",
       "      <td>10/27/2013</td>\n",
       "      <td>2013</td>\n",
       "      <td>OCT</td>\n",
       "      <td>seven</td>\n",
       "      <td>B</td>\n",
       "      <td>GCKI</td>\n",
       "      <td>Golden-crowned Kinglet</td>\n",
       "      <td>1</td>\n",
       "    </tr>\n",
       "    <tr>\n",
       "      <th>4</th>\n",
       "      <td>10/28/2013</td>\n",
       "      <td>2013</td>\n",
       "      <td>OCT</td>\n",
       "      <td>nine</td>\n",
       "      <td>D</td>\n",
       "      <td>GRCA</td>\n",
       "      <td>Gray Catbird</td>\n",
       "      <td>1</td>\n",
       "    </tr>\n",
       "  </tbody>\n",
       "</table>\n",
       "</div>"
      ],
      "text/plain": [
       "         Date  YEAR MONTH     Bldg # Side SpeciesCode  \\\n",
       "0  10/19/2013  2013   OCT     twelve    E        MODO   \n",
       "1  10/22/2013  2013   OCT  seventeen    C        EATO   \n",
       "2  10/23/2013  2013   OCT        ten    D        HETH   \n",
       "3  10/27/2013  2013   OCT      seven    B        GCKI   \n",
       "4  10/28/2013  2013   OCT       nine    D        GRCA   \n",
       "\n",
       "               Common Name  Deaths  \n",
       "0           Mourning Dove        1  \n",
       "1          Eastern Towhee        1  \n",
       "2           Hermit Thrush        1  \n",
       "3  Golden-crowned Kinglet        1  \n",
       "4            Gray Catbird        1  "
      ]
     },
     "execution_count": 3,
     "metadata": {},
     "output_type": "execute_result"
    }
   ],
   "source": [
    "file = pd.read_csv(\"bird-window-collision-death.csv\")\n",
    "file.head()"
   ]
  },
  {
   "cell_type": "code",
   "execution_count": 14,
   "id": "e3312d57",
   "metadata": {},
   "outputs": [],
   "source": [
    "import plotly.express as px\n",
    "fig = px.pie(file, values='Deaths', names='Bldg #',color = 'Common Name', title=\"Pie-Chart which represent the buiding wise each species death count as well as total death count.\")\n",
    "#fig.show()\n",
    "#fig.update_traces(insidetextfont_color=\"white\", textinfo=\"label+percent\")\n",
    "#fig.update_layout(legend_itemclick=False)\n",
    "fig.write_html(\"pc2.html\")"
   ]
  },
  {
   "cell_type": "code",
   "execution_count": 9,
   "id": "e592b59e",
   "metadata": {},
   "outputs": [],
   "source": [
    "fig2 = px.sunburst(file, path = ['Bldg #', 'Common Name'], values = 'Deaths')\n",
    "fig2.update_layout(legend_itemclick = False)\n",
    "#fig2.show()\n",
    "fig2.write_html(\"pc3.html\")"
   ]
  },
  {
   "cell_type": "code",
   "execution_count": 12,
   "id": "da42da09",
   "metadata": {},
   "outputs": [],
   "source": [
    "#without using sunburst, mention building wise death count of each species\n",
    "fig6 = px.bar(file, x = 'Bldg #', y = 'Deaths', color = 'Common Name', barmode = 'group')\n",
    "fig6.update_layout(legend_itemclick = False)\n",
    "fig6.write_html(\"pc6.html\")"
   ]
  },
  {
   "cell_type": "code",
   "execution_count": 11,
   "id": "68de1200",
   "metadata": {},
   "outputs": [],
   "source": [
    "#Mention Building Number, Percentage on Pie Chart along with on Hover shows the each species death count.\n",
    "fig5 = px.pie(file, values='Deaths', names='Bldg #',color = 'Common Name', title=\"Pie-Chart which represent the buiding wise each species death count as well as total death count.\")\n",
    "fig5.update_traces(textposition='inside', textinfo='percent+label')\n",
    "fig5.write_html(\"pc5.html\")"
   ]
  },
  {
   "cell_type": "code",
   "execution_count": 10,
   "id": "98b072be",
   "metadata": {},
   "outputs": [],
   "source": [
    "fig3 = px.histogram(file, x='Bldg #', y='Deaths', color='SpeciesCode')\n",
    "fig.update_layout(legend_itemclick=False, legend_itemdoubleclick=False)\n",
    "#fig.show()\n",
    "fig3.write_html(\"pc4.html\")"
   ]
  }
 ],
 "metadata": {
  "kernelspec": {
   "display_name": "Python 3.9.7 64-bit",
   "language": "python",
   "name": "python3"
  },
  "language_info": {
   "codemirror_mode": {
    "name": "ipython",
    "version": 3
   },
   "file_extension": ".py",
   "mimetype": "text/x-python",
   "name": "python",
   "nbconvert_exporter": "python",
   "pygments_lexer": "ipython3",
   "version": "3.9.7"
  },
  "vscode": {
   "interpreter": {
    "hash": "9fd60b8bb15377d59e74e9fea1e7409c02a309b91caf5779becf2247a2e38203"
   }
  }
 },
 "nbformat": 4,
 "nbformat_minor": 5
}
